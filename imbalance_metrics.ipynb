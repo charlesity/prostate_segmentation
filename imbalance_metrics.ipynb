{
 "cells": [
  {
   "cell_type": "code",
   "execution_count": null,
   "metadata": {},
   "outputs": [],
   "source": [
    "import numpy as np"
   ]
  },
  {
   "cell_type": "code",
   "execution_count": 2,
   "metadata": {},
   "outputs": [],
   "source": [
    "def plot_model_boundaries(model, xmin=0, xmax=1.5, ymin=0, ymax=1.5, npoints=40):\n",
    "    xx = np.linspace(xmin, xmax, npoints)\n",
    "    yy = np.linspace(ymin, ymax, npoints)\n",
    "    xv, yv = np.meshgrid(xx, yy)\n",
    "    xv, yv = xv.flatten(), yv.flatten()\n",
    "    labels = model.predict(np.c_[xv,yv])\n",
    "    plt.scatter(xv[labels==1],yv[labels==1],color='r', alpha=0.02, marker='o', s=300)\n",
    "    plt.scatter(xv[labels==0],yv[labels==0],color='b', alpha=0.02, marker='o', s=300)\n",
    "    plt.ylim([xmin, xmax])\n",
    "    plt.xlim([ymin, ymax])"
   ]
  },
  {
   "cell_type": "code",
   "execution_count": 8,
   "metadata": {},
   "outputs": [
    {
     "data": {
      "image/png": "[encoded data removed]",
      "text/plain": [
       "<Figure size 432x288 with 1 Axes>"
      ]
     },
     "metadata": {},
     "output_type": "display_data"
    }
   ],
   "source": [
    "from matplotlib import pyplot as plt\n",
    "from sklearn.svm import LinearSVC\n",
    "from sklearn.metrics import precision_score, recall_score, roc_curve\n",
    "\n",
    "np.random.seed(1)\n",
    "x = np.concatenate([np.zeros((8, 2)), np.zeros((1,2)), np.zeros((1,2))]) + 0.8*np.random.rand(10,2)\n",
    "x[-1,0]+=1\n",
    "x[-1,-1]+=1\n",
    "y = np.concatenate([np.ones(9), np.zeros(1)])\n",
    "model = LinearSVC()\n",
    "model.fit(x,y)\n",
    "predicted_labels = model.predict(x)\n",
    "plot_model_boundaries(model, xmin=0, xmax=1.5, ymin=0, ymax=1.5)\n",
    "plt.scatter(x[y==0,0],x[y==0,1], color='b')\n",
    "plt.scatter(x[y==1,0],x[y==1,1], color='r');\n",
    "fpr, tpr, thresholds = roc_curve(y, predicted_labels)\n",
    "plt.title(\"precision = {}, recall = {}, fpr = {}, tpr = {}\".format(precision_score(y, predicted_labels), recall_score(y, predicted_labels), fpr[0], tpr[0]));"
   ]
  },
  {
   "cell_type": "code",
   "execution_count": null,
   "metadata": {},
   "outputs": [],
   "source": [
    "np.random.seed(1)\n",
    "x = np.concatenate([np.zeros((8, 2)), np.zeros((1,2)), np.zeros((1,2))]) + 1.2*np.random.rand(10,2)\n",
    "x[-1,0]+=1\n",
    "x[-1,-1]+=1\n",
    "y = np.concatenate([np.ones(9), np.zeros(1)])\n",
    "model = LinearSVC()\n",
    "model.fit(x,y)\n",
    "predicted_labels = model.predict(x)\n",
    "plot_model_boundaries(model, xmin=0, xmax=1.5, ymin=0, ymax=1.5)\n",
    "plt.scatter(x[y==0,0],x[y==0,1], color='b')\n",
    "plt.scatter(x[y==1,0],x[y==1,1], color='r');\n",
    "fpr, tpr, thresholds = roc_curve(y, predicted_labels)\n",
    "plt.title(\"precision = {}, recall = {}, fpr = {}, tpr = {}\".format(\n",
    "    precision_score(y, predicted_labels), recall_score(y, predicted_labels), fpr[1], tpr[1]));"
   ]
  },
  {
   "cell_type": "code",
   "execution_count": null,
   "metadata": {},
   "outputs": [],
   "source": [
    "x = np.concatenate([np.zeros((8, 2)), np.zeros((1,2)), np.zeros((1,2))]) + 0.9*np.random.rand(10,2)\n",
    "x[-1,0]+=1\n",
    "x[-1,-1]+=1\n",
    "y = np.concatenate([np.zeros(1), np.ones(8), np.zeros(1)])\n",
    "model = LinearSVC()\n",
    "model.fit(x,y)\n",
    "predicted_labels = model.predict(x)\n",
    "plot_model_boundaries(model, xmin=0, xmax=2, ymin=0, ymax=2)\n",
    "plt.scatter(x[y==0,0],x[y==0,1], color='b')\n",
    "plt.scatter(x[y==1,0],x[y==1,1], color='r');\n",
    "fpr, tpr, thresholds = roc_curve(y, predicted_labels)\n",
    "plt.title(\"precision = {:.2f}, recall = {}, fpr = {}, tpr = {}\".format(\n",
    "    precision_score(y, predicted_labels), recall_score(y, predicted_labels), fpr[1], tpr[1]));"
   ]
  },
  {
   "cell_type": "code",
   "execution_count": null,
   "metadata": {},
   "outputs": [],
   "source": [
    "x = np.concatenate([np.zeros((8, 2)), np.zeros((1,2)), np.zeros((1,2))]) + 0.9*np.random.rand(10,2)\n",
    "x[-1,0]+=1\n",
    "x[-1,-1]+=1\n",
    "y = np.concatenate([np.ones(1), np.zeros(8), np.ones(1)])\n",
    "model = LinearSVC()\n",
    "model.fit(x,y)\n",
    "predicted_labels = model.predict(x)\n",
    "plot_model_boundaries(model, xmin=0, xmax=2, ymin=0, ymax=2)\n",
    "plt.scatter(x[y==0,0],x[y==0,1], color='b')\n",
    "plt.scatter(x[y==1,0],x[y==1,1], color='r')\n",
    "fpr, tpr, thresholds = roc_curve(y, predicted_labels)\n",
    "plt.title(\"precision = {:.2f}, recall = {}, fpr = {}, tpr = {}\".format(\n",
    " precision_score(y, predicted_labels), recall_score(y, predicted_labels), fpr[0], tpr[0]));"
   ]
  },
  {
   "cell_type": "code",
   "execution_count": null,
   "metadata": {},
   "outputs": [],
   "source": [
    "np.random.seed(1)\n",
    "x = np.concatenate([np.zeros((8, 2)), np.zeros((1,2)), np.zeros((1,2))]) + 0.9*np.random.rand(10,2)\n",
    "x[-1,0]+=1\n",
    "x[-1,-1]+=1\n",
    "x[-2,0]+=0.8\n",
    "x[-2,-1]+=0.8\n",
    "x[-3,0]+=0.8\n",
    "x[-3,-1]+=0.8\n",
    "y = np.concatenate([np.zeros(7), np.ones(3)])\n",
    "y = 1-y\n",
    "model = LinearSVC()\n",
    "model.fit(x,y)\n",
    "y = np.concatenate([np.zeros(9), np.ones(1)])\n",
    "y = 1-y\n",
    "predicted_labels = model.predict(x)\n",
    "plot_model_boundaries(model, xmin=0, xmax=2, ymin=0, ymax=2)\n",
    "plt.scatter(x[y==0,0],x[y==0,1], color='b')\n",
    "plt.scatter(x[y==1,0],x[y==1,1], color='r');\n",
    "fpr, tpr, thresholds = roc_curve(y, predicted_labels)\n",
    "plt.title(\"precision = {:.2f}, recall = {:.2f}, fpr = {:.2f}, tpr = {:.2f}\".format(\n",
    "    precision_score(y, predicted_labels), recall_score(y, predicted_labels), fpr[0], tpr[0]));"
   ]
  },
  {
   "cell_type": "code",
   "execution_count": null,
   "metadata": {},
   "outputs": [],
   "source": [
    "np.random.seed(1)\n",
    "x = np.concatenate([np.zeros((8, 2)), np.zeros((1,2)), np.zeros((1,2))]) + 0.9*np.random.rand(10,2)\n",
    "x[-1,0]+=1\n",
    "x[-1,-1]+=1\n",
    "x[-2,0]+=0.8\n",
    "x[-2,-1]+=0.8\n",
    "x[-3,0]+=0.8\n",
    "x[-3,-1]+=0.8\n",
    "y = np.concatenate([np.zeros(7), np.ones(3)])\n",
    "model = LinearSVC()\n",
    "model.fit(x,y)\n",
    "y = np.concatenate([np.zeros(9), np.ones(1)])\n",
    "predicted_labels = model.predict(x)\n",
    "plot_model_boundaries(model, xmin=0, xmax=2, ymin=0, ymax=2)\n",
    "plt.scatter(x[y==0,0],x[y==0,1], color='b')\n",
    "plt.scatter(x[y==1,0],x[y==1,1], color='r');\n",
    "fpr, tpr, thresholds = roc_curve(y, predicted_labels)\n",
    "plt.title(\"precision = {:.2f}, recall = {}, fpr = {:.2f}, tpr = {}\".format(\n",
    "    precision_score(y, predicted_labels), recall_score(y, predicted_labels), fpr[1], tpr[1]));"
   ]
  },
  {
   "cell_type": "code",
   "execution_count": null,
   "metadata": {},
   "outputs": [],
   "source": []
  }
 ],
 "metadata": {
  "kernelspec": {
   "display_name": "Python 3",
   "language": "python",
   "name": "python3"
  },
  "language_info": {
   "codemirror_mode": {
    "name": "ipython",
    "version": 3
   },
   "file_extension": ".py",
   "mimetype": "text/x-python",
   "name": "python",
   "nbconvert_exporter": "python",
   "pygments_lexer": "ipython3",
   "version": "3.6.5"
  }
 },
 "nbformat": 4,
 "nbformat_minor": 2
}
