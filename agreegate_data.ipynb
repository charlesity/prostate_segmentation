{
 "cells": [
  {
   "cell_type": "code",
   "execution_count": 1,
   "metadata": {},
   "outputs": [
    {
     "name": "stderr",
     "output_type": "stream",
     "text": [
      "/home/charles/anaconda3/lib/python3.6/importlib/_bootstrap.py:219: RuntimeWarning: numpy.dtype size changed, may indicate binary incompatibility. Expected 96, got 88\n",
      "  return f(*args, **kwds)\n",
      "/home/charles/anaconda3/lib/python3.6/importlib/_bootstrap.py:219: RuntimeWarning: numpy.dtype size changed, may indicate binary incompatibility. Expected 96, got 88\n",
      "  return f(*args, **kwds)\n"
     ]
    }
   ],
   "source": [
    "from __future__ import print_function\n",
    "from six.moves import range\n",
    "import numpy as np\n",
    "import scipy as sp\n",
    "import random\n",
    "random.seed(2001)\n",
    "import scipy.io\n",
    "import matplotlib.pyplot as plt\n",
    "import glob as glob\n",
    "\n"
   ]
  },
  {
   "cell_type": "code",
   "execution_count": 2,
   "metadata": {},
   "outputs": [],
   "source": [
    "def fetch_data(files, slice_range):\n",
    "    #randomly pick test_percent of folders\n",
    "    num = len(files)\n",
    "    XY_Data = list()\n",
    "    \n",
    "    for f in files:\n",
    "        Xy_tr = np.load(f)\n",
    "        trimed_data = None\n",
    "        if slice_range != 0:                    \n",
    "            num_of_slices = Xy_tr[-1, 785] #number of slices\n",
    "            start_slice =np.floor(num_of_slices/2) - np.floor(slice_range/2) \n",
    "            end_slice = start_slice + slice_range\n",
    "            start_indices = Xy_tr[:, 785] >= start_slice\n",
    "            end_indices = Xy_tr[:, 785] <= end_slice\n",
    "            intercept = start_indices & end_indices        \n",
    "            trimed_data = Xy_tr[intercept]\n",
    "        else:\n",
    "            trimed_data = Xy_tr        \n",
    "        if len(XY_Data) == 0:\n",
    "            XY_Data = trimed_data\n",
    "        else:\n",
    "            XY_Data = np.append(XY_Data, trimed_data, axis =0)\n",
    "    return XY_Data"
   ]
  },
  {
   "cell_type": "code",
   "execution_count": 3,
   "metadata": {},
   "outputs": [],
   "source": [
    "def fetch_data_for_minus(files, slice_range):\n",
    "    #randomly pick test_percent of folders\n",
    "    num = len(files)\n",
    "    XY_Data = list()\n",
    "    \n",
    "    for f in files:\n",
    "        Xy_tr = np.load(f)\n",
    "        trimed_data = None\n",
    "        if slice_range != 0:                    \n",
    "            num_of_slices = Xy_tr[-1, 785] #number of slices\n",
    "            start_slice =np.floor(num_of_slices/2) - np.floor(slice_range/2) \n",
    "            end_slice = start_slice + slice_range\n",
    "            start_indices = Xy_tr[:, 785] >= start_slice\n",
    "            end_indices = Xy_tr[:, 785] <= end_slice\n",
    "            intercept = start_indices & end_indices        \n",
    "            trimed_data = Xy_tr[intercept]\n",
    "        else:\n",
    "            trimed_data = Xy_tr        \n",
    "        if len(XY_Data) == 0:\n",
    "            XY_Data = trimed_data\n",
    "        else:\n",
    "            XY_Data = np.append(XY_Data, trimed_data, axis =0)\n",
    "    return XY_Data"
   ]
  },
  {
   "cell_type": "code",
   "execution_count": 4,
   "metadata": {},
   "outputs": [
    {
     "name": "stdout",
     "output_type": "stream",
     "text": [
      "30\n"
     ]
    }
   ],
   "source": [
    "data_files = './minus_data/rescaled_minus/'\n",
    "all_files = glob.glob(data_files+'/*.npy')\n",
    "all_files = sorted(all_files)  #load the number of folders indicated in the slice.... loading all will require more memory\n",
    "print (len(all_files))"
   ]
  },
  {
   "cell_type": "code",
   "execution_count": 8,
   "metadata": {},
   "outputs": [],
   "source": [
    "np.save(\"./minus_data/Processed_data/XY_Dataset_28_28_with_minus_1\", XY_Data_All_with_minus)"
   ]
  },
  {
   "cell_type": "code",
   "execution_count": 7,
   "metadata": {},
   "outputs": [
    {
     "name": "stdout",
     "output_type": "stream",
     "text": [
      "30\n"
     ]
    }
   ],
   "source": [
    "data_files = './'\n",
    "all_files = glob.glob(data_files+'/*.npy')\n",
    "all_files = sorted(all_files)  #load the number of folders indicated in the slice.... loading all will require more memory\n",
    "print (len(all_files))"
   ]
  },
  {
   "cell_type": "code",
   "execution_count": 8,
   "metadata": {},
   "outputs": [],
   "source": [
    "XY_Data_All_with_minus= fetch_data(all_files, 0)"
   ]
  },
  {
   "cell_type": "code",
   "execution_count": 9,
   "metadata": {},
   "outputs": [
    {
     "name": "stdout",
     "output_type": "stream",
     "text": [
      "(49439, 786)\n"
     ]
    }
   ],
   "source": [
    "print (XY_Data_All_with_minus.shape)"
   ]
  },
  {
   "cell_type": "code",
   "execution_count": 10,
   "metadata": {},
   "outputs": [
    {
     "name": "stdout",
     "output_type": "stream",
     "text": [
      "(1, 772) (1, 48667)\n"
     ]
    },
    {
     "data": {
      "text/plain": [
       "<matplotlib.image.AxesImage at 0x7f24764ee780>"
      ]
     },
     "execution_count": 10,
     "metadata": {},
     "output_type": "execute_result"
    },
    {
     "data": {
      "image/png": "[encoded data removed]",
      "text/plain": [
       "<Figure size 432x288 with 1 Axes>"
      ]
     },
     "metadata": {},
     "output_type": "display_data"
    },
    {
     "data": {
      "image/png": "[encoded data removed]",
      "text/plain": [
       "<Figure size 432x288 with 1 Axes>"
      ]
     },
     "metadata": {},
     "output_type": "display_data"
    }
   ],
   "source": [
    "ones = np.where(XY_Data_All_with_minus[:, 784]==1)\n",
    "zeros = np.where(XY_Data_All_with_minus[:, 784]==0)\n",
    "\n",
    "print(np.shape(ones), np.shape(zeros))\n",
    "\n",
    "all_ones = XY_Data_All_with_minus[ones]\n",
    "all_zeros = XY_Data_All_with_minus[zeros]\n",
    "plt.imshow(all_ones[10, :784].reshape(28,28))\n",
    "plt.figure()\n",
    "plt.imshow(all_zeros[400, :784].reshape(28,28))\n",
    "      "
   ]
  },
  {
   "cell_type": "code",
   "execution_count": 11,
   "metadata": {},
   "outputs": [
    {
     "name": "stdout",
     "output_type": "stream",
     "text": [
      "StratifiedShuffleSplit(labels=[1 0 0 ... 0 0 0], n_iter=3, test_size=0.5, random_state=0)\n",
      "TRAIN: [27329  4926 17557 ...  9954 46489 46194] TEST: [10981 45135  3524 ... 38679  2579 46621]\n",
      "TRAIN: [29675 40645  5365 ... 19629  6671  6405] TEST: [18068  4997 45867 ... 36667 22171 45718]\n",
      "TRAIN: [ 5131 39451 43746 ... 18165 43700  4678] TEST: [18413 20191 46755 ... 16045 44979 25763]\n"
     ]
    }
   ],
   "source": [
    "num_classes = 2\n",
    "X = XY_Data_All_with_minus[:, :784]\n",
    "y = XY_Data_All_with_minus[:, 784].astype(np.int)\n",
    "\n",
    "sss = StratifiedShuffleSplit(y, 3, test_size=0.5, random_state=0)\n",
    "print (sss)\n",
    "for train_index, test_index in sss:\n",
    "    print(\"TRAIN:\", train_index, \"TEST:\", test_index)\n",
    "    X_train, X_test = X[train_index], X[test_index]\n",
    "    y_train, y_test = y[train_index], y[test_index]\n",
    "\n",
    "\n",
    "# y_train = np_utils.to_categorical(y_train, num_classes)\n",
    "# y_test = np_utils.to_categorical(y_test, num_classes)\n",
    "\n",
    "# datagen = ImageDataGenerator(\n",
    "#     featurewise_center=True,\n",
    "#     featurewise_std_normalization=True,\n",
    "#     rotation_range=20,\n",
    "#     width_shift_range=0.2,\n",
    "#     height_shift_range=0.2,\n",
    "#     horizontal_flip=True)\n",
    "\n",
    "# # compute quantities required for featurewise normalization\n",
    "# # (std, mean, and principal components if ZCA whitening is applied)\n",
    "# datagen.fit(x_train)\n"
   ]
  },
  {
   "cell_type": "code",
   "execution_count": null,
   "metadata": {},
   "outputs": [],
   "source": []
  }
 ],
 "metadata": {
  "kernelspec": {
   "display_name": "Python 3",
   "language": "python",
   "name": "python3"
  },
  "language_info": {
   "codemirror_mode": {
    "name": "ipython",
    "version": 3
   },
   "file_extension": ".py",
   "mimetype": "text/x-python",
   "name": "python",
   "nbconvert_exporter": "python",
   "pygments_lexer": "ipython3",
   "version": "3.6.5"
  }
 },
 "nbformat": 4,
 "nbformat_minor": 2
}
