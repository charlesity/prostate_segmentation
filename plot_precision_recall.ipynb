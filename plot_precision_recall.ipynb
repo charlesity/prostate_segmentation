{
 "cells": [
  {
   "cell_type": "code",
   "execution_count": 1,
   "metadata": {},
   "outputs": [],
   "source": [
    "%matplotlib inline"
   ]
  },
  {
   "cell_type": "markdown",
   "metadata": {},
   "source": [
    "\n",
    "# Precision-Recall\n",
    "\n",
    "\n",
    "Example of Precision-Recall metric to evaluate classifier output quality.\n",
    "\n",
    "Precision-Recall is a useful measure of success of prediction when the\n",
    "classes are very imbalanced. In information retrieval, precision is a\n",
    "measure of result relevancy, while recall is a measure of how many truly\n",
    "relevant results are returned.\n",
    "\n",
    "The precision-recall curve shows the tradeoff between precision and\n",
    "recall for different threshold. A high area under the curve represents\n",
    "both high recall and high precision, where high precision relates to a\n",
    "low false positive rate, and high recall relates to a low false negative\n",
    "rate. High scores for both show that the classifier is returning accurate\n",
    "results (high precision), as well as returning a majority of all positive\n",
    "results (high recall).\n",
    "\n",
    "A system with high recall but low precision returns many results, but most of\n",
    "its predicted labels are incorrect when compared to the training labels. A\n",
    "system with high precision but low recall is just the opposite, returning very\n",
    "few results, but most of its predicted labels are correct when compared to the\n",
    "training labels. An ideal system with high precision and high recall will\n",
    "return many results, with all results labeled correctly.\n",
    "\n",
    "Precision ($P$) is defined as the number of true positives ($T_p$)\n",
    "over the number of true positives plus the number of false positives\n",
    "($F_p$).\n",
    "\n",
    "$P = \\frac{T_p}{T_p+F_p}$\n",
    "\n",
    "Recall ($R$) is defined as the number of true positives ($T_p$)\n",
    "over the number of true positives plus the number of false negatives\n",
    "($F_n$).\n",
    "\n",
    "$R = \\frac{T_p}{T_p + F_n}$\n",
    "\n",
    "These quantities are also related to the ($F_1$) score, which is defined\n",
    "as the harmonic mean of precision and recall.\n",
    "\n",
    "$F1 = 2\\frac{P \\times R}{P+R}$\n",
    "\n",
    "Note that the precision may not decrease with recall. The\n",
    "definition of precision ($\\frac{T_p}{T_p + F_p}$) shows that lowering\n",
    "the threshold of a classifier may increase the denominator, by increasing the\n",
    "number of results returned. If the threshold was previously set too high, the\n",
    "new results may all be true positives, which will increase precision. If the\n",
    "previous threshold was about right or too low, further lowering the threshold\n",
    "will introduce false positives, decreasing precision.\n",
    "\n",
    "Recall is defined as $\\frac{T_p}{T_p+F_n}$, where $T_p+F_n$ does\n",
    "not depend on the classifier threshold. This means that lowering the classifier\n",
    "threshold may increase recall, by increasing the number of true positive\n",
    "results. It is also possible that lowering the threshold may leave recall\n",
    "unchanged, while the precision fluctuates.\n",
    "\n",
    "The relationship between recall and precision can be observed in the\n",
    "stairstep area of the plot - at the edges of these steps a small change\n",
    "in the threshold considerably reduces precision, with only a minor gain in\n",
    "recall.\n",
    "\n",
    "**Average precision** (AP) summarizes such a plot as the weighted mean of\n",
    "precisions achieved at each threshold, with the increase in recall from the\n",
    "previous threshold used as the weight:\n",
    "\n",
    "$\\text{AP} = \\sum_n (R_n - R_{n-1}) P_n$\n",
    "\n",
    "where $P_n$ and $R_n$ are the precision and recall at the\n",
    "nth threshold. A pair $(R_k, P_k)$ is referred to as an\n",
    "*operating point*.\n",
    "\n",
    "AP and the trapezoidal area under the operating points\n",
    "(:func:`sklearn.metrics.auc`) are common ways to summarize a precision-recall\n",
    "curve that lead to different results. Read more in the\n",
    "`User Guide <precision_recall_f_measure_metrics>`.\n",
    "\n",
    "Precision-recall curves are typically used in binary classification to study\n",
    "the output of a classifier. In order to extend the precision-recall curve and\n",
    "average precision to multi-class or multi-label classification, it is necessary\n",
    "to binarize the output. One curve can be drawn per label, but one can also draw\n",
    "a precision-recall curve by considering each element of the label indicator\n",
    "matrix as a binary prediction (micro-averaging).\n",
    "\n",
    "<div class=\"alert alert-info\"><h4>Note</h4><p>See also :func:`sklearn.metrics.average_precision_score`,\n",
    "             :func:`sklearn.metrics.recall_score`,\n",
    "             :func:`sklearn.metrics.precision_score`,\n",
    "             :func:`sklearn.metrics.f1_score`</p></div>\n",
    "\n"
   ]
  },
  {
   "cell_type": "code",
   "execution_count": 2,
   "metadata": {},
   "outputs": [],
   "source": [
    "from __future__ import print_function"
   ]
  },
  {
   "cell_type": "markdown",
   "metadata": {},
   "source": [
    "In binary classification settings\n",
    "--------------------------------------------------------\n",
    "\n",
    "Create simple data\n",
    "..................\n",
    "\n",
    "Try to differentiate the two first classes of the iris data\n",
    "\n"
   ]
  },
  {
   "cell_type": "code",
   "execution_count": 4,
   "metadata": {
    "scrolled": true
   },
   "outputs": [],
   "source": [
    "from sklearn import svm, datasets\n",
    "from sklearn.model_selection import train_test_split\n",
    "import numpy as np\n",
    "\n",
    "iris = datasets.load_iris()\n",
    "X = iris.data\n",
    "y = iris.target\n",
    "\n",
    "# Add noisy features\n",
    "random_state = np.random.RandomState(0)\n",
    "n_samples, n_features = X.shape\n",
    "X = np.c_[X, random_state.randn(n_samples, 200 * n_features)]\n",
    "\n",
    "# Limit to the two first classes, and split into training and test\n",
    "X_train, X_test, y_train, y_test = train_test_split(X[y < 2], y[y < 2],\n",
    "                                                    test_size=.5,\n",
    "                                                    random_state=random_state)\n",
    "\n",
    "# Create a simple classifier\n",
    "classifier = svm.LinearSVC(random_state=random_state)\n",
    "classifier.fit(X_train, y_train)\n",
    "y_score = classifier.decision_function(X_test)"
   ]
  },
  {
   "cell_type": "markdown",
   "metadata": {},
   "source": [
    "Compute the average precision score\n",
    "...................................\n",
    "\n"
   ]
  },
  {
   "cell_type": "code",
   "execution_count": 5,
   "metadata": {},
   "outputs": [
    {
     "name": "stdout",
     "output_type": "stream",
     "text": [
      "Average precision-recall score: 0.88\n"
     ]
    }
   ],
   "source": [
    "from sklearn.metrics import average_precision_score\n",
    "average_precision = average_precision_score(y_test, y_score)\n",
    "\n",
    "print('Average precision-recall score: {0:0.2f}'.format(\n",
    "      average_precision))"
   ]
  },
  {
   "cell_type": "markdown",
   "metadata": {},
   "source": [
    "Plot the Precision-Recall curve\n",
    "................................\n",
    "\n"
   ]
  },
  {
   "cell_type": "code",
   "execution_count": 7,
   "metadata": {},
   "outputs": [
    {
     "name": "stdout",
     "output_type": "stream",
     "text": [
      "[-0.20078869 -0.18318328 -0.15043726 -0.14958466 -0.12733462 -0.1142941\n",
      " -0.09281931 -0.08794601 -0.08258102 -0.07007139 -0.06386267 -0.04914839\n",
      " -0.04536122 -0.03991278  0.0032915   0.01213433  0.02619439  0.03145977\n",
      "  0.04871897  0.0515638   0.06493837  0.065023    0.09898417  0.11549516\n",
      "  0.12179099  0.12585371  0.18899737  0.1906223   0.20018683  0.20105976\n",
      "  0.22408591  0.22931596  0.24693291  0.26336904  0.27523711  0.30423874\n",
      "  0.31364573  0.39424539  0.40148935  0.42411536  0.42593404  0.49589616]\n"
     ]
    },
    {
     "data": {
      "text/plain": [
       "Text(0.5,1,'2-class Precision-Recall curve: AP=0.88')"
      ]
     },
     "execution_count": 7,
     "metadata": {},
     "output_type": "execute_result"
    },
    {
     "data": {
      "image/png": "[encoded data removed]",
      "text/plain": [
       "<Figure size 432x288 with 1 Axes>"
      ]
     },
     "metadata": {},
     "output_type": "display_data"
    }
   ],
   "source": [
    "from sklearn.metrics import precision_recall_curve\n",
    "import matplotlib.pyplot as plt\n",
    "\n",
    "precision, recall, _ = precision_recall_curve(y_test, y_score)\n",
    "print (_)\n",
    "plt.step(recall, precision, color='b', alpha=0.2,\n",
    "         where='post')\n",
    "plt.fill_between(recall, precision, step='post', alpha=0.2,\n",
    "                 color='b')\n",
    "\n",
    "plt.xlabel('Recall')\n",
    "plt.ylabel('Precision')\n",
    "plt.ylim([0.0, 1.05])\n",
    "plt.xlim([0.0, 1.0])\n",
    "plt.title('2-class Precision-Recall curve: AP={0:0.2f}'.format(\n",
    "          average_precision))"
   ]
  },
  {
   "cell_type": "markdown",
   "metadata": {},
   "source": [
    "In multi-label settings\n",
    "------------------------\n",
    "\n",
    "Create multi-label data, fit, and predict\n",
    "...........................................\n",
    "\n",
    "We create a multi-label dataset, to illustrate the precision-recall in\n",
    "multi-label settings\n",
    "\n"
   ]
  },
  {
   "cell_type": "code",
   "execution_count": null,
   "metadata": {},
   "outputs": [],
   "source": [
    "from sklearn.preprocessing import label_binarize\n",
    "\n",
    "# Use label_binarize to be multi-label like settings\n",
    "Y = label_binarize(y, classes=[0, 1, 2])\n",
    "n_classes = Y.shape[1]\n",
    "\n",
    "# Split into training and test\n",
    "X_train, X_test, Y_train, Y_test = train_test_split(X, Y, test_size=.5,\n",
    "                                                    random_state=random_state)\n",
    "\n",
    "# We use OneVsRestClassifier for multi-label prediction\n",
    "from sklearn.multiclass import OneVsRestClassifier\n",
    "\n",
    "# Run classifier\n",
    "classifier = OneVsRestClassifier(svm.LinearSVC(random_state=random_state))\n",
    "classifier.fit(X_train, Y_train)\n",
    "y_score = classifier.decision_function(X_test)"
   ]
  },
  {
   "cell_type": "markdown",
   "metadata": {},
   "source": [
    "The average precision score in multi-label settings\n",
    "....................................................\n",
    "\n"
   ]
  },
  {
   "cell_type": "code",
   "execution_count": null,
   "metadata": {},
   "outputs": [],
   "source": [
    "from sklearn.metrics import precision_recall_curve\n",
    "from sklearn.metrics import average_precision_score\n",
    "\n",
    "# For each class\n",
    "precision = dict()\n",
    "recall = dict()\n",
    "average_precision = dict()\n",
    "for i in range(n_classes):\n",
    "    precision[i], recall[i], _ = precision_recall_curve(Y_test[:, i],\n",
    "                                                        y_score[:, i])\n",
    "    average_precision[i] = average_precision_score(Y_test[:, i], y_score[:, i])\n",
    "\n",
    "# A \"micro-average\": quantifying score on all classes jointly\n",
    "precision[\"micro\"], recall[\"micro\"], _ = precision_recall_curve(Y_test.ravel(),\n",
    "    y_score.ravel())\n",
    "average_precision[\"micro\"] = average_precision_score(Y_test, y_score,\n",
    "                                                     average=\"micro\")\n",
    "print('Average precision score, micro-averaged over all classes: {0:0.2f}'\n",
    "      .format(average_precision[\"micro\"]))"
   ]
  },
  {
   "cell_type": "markdown",
   "metadata": {},
   "source": [
    "Plot the micro-averaged Precision-Recall curve\n",
    "...............................................\n",
    "\n",
    "\n"
   ]
  },
  {
   "cell_type": "code",
   "execution_count": null,
   "metadata": {},
   "outputs": [],
   "source": [
    "plt.figure()\n",
    "plt.step(recall['micro'], precision['micro'], color='b', alpha=0.2,\n",
    "         where='post')\n",
    "plt.fill_between(recall[\"micro\"], precision[\"micro\"], step='post', alpha=0.2,\n",
    "                 color='b')\n",
    "\n",
    "plt.xlabel('Recall')\n",
    "plt.ylabel('Precision')\n",
    "plt.ylim([0.0, 1.05])\n",
    "plt.xlim([0.0, 1.0])\n",
    "plt.title(\n",
    "    'Average precision score, micro-averaged over all classes: AP={0:0.2f}'\n",
    "    .format(average_precision[\"micro\"]))"
   ]
  },
  {
   "cell_type": "markdown",
   "metadata": {},
   "source": [
    "Plot Precision-Recall curve for each class and iso-f1 curves\n",
    ".............................................................\n",
    "\n",
    "\n"
   ]
  },
  {
   "cell_type": "code",
   "execution_count": null,
   "metadata": {},
   "outputs": [],
   "source": [
    "from itertools import cycle\n",
    "# setup plot details\n",
    "colors = cycle(['navy', 'turquoise', 'darkorange', 'cornflowerblue', 'teal'])\n",
    "\n",
    "plt.figure(figsize=(7, 8))\n",
    "f_scores = np.linspace(0.2, 0.8, num=4)\n",
    "lines = []\n",
    "labels = []\n",
    "for f_score in f_scores:\n",
    "    x = np.linspace(0.01, 1)\n",
    "    y = f_score * x / (2 * x - f_score)\n",
    "    l, = plt.plot(x[y >= 0], y[y >= 0], color='gray', alpha=0.2)\n",
    "    plt.annotate('f1={0:0.1f}'.format(f_score), xy=(0.9, y[45] + 0.02))\n",
    "\n",
    "lines.append(l)\n",
    "labels.append('iso-f1 curves')\n",
    "l, = plt.plot(recall[\"micro\"], precision[\"micro\"], color='gold', lw=2)\n",
    "lines.append(l)\n",
    "labels.append('micro-average Precision-recall (area = {0:0.2f})'\n",
    "              ''.format(average_precision[\"micro\"]))\n",
    "\n",
    "for i, color in zip(range(n_classes), colors):\n",
    "    l, = plt.plot(recall[i], precision[i], color=color, lw=2)\n",
    "    lines.append(l)\n",
    "    labels.append('Precision-recall for class {0} (area = {1:0.2f})'\n",
    "                  ''.format(i, average_precision[i]))\n",
    "\n",
    "fig = plt.gcf()\n",
    "fig.subplots_adjust(bottom=0.25)\n",
    "plt.xlim([0.0, 1.0])\n",
    "plt.ylim([0.0, 1.05])\n",
    "plt.xlabel('Recall')\n",
    "plt.ylabel('Precision')\n",
    "plt.title('Extension of Precision-Recall curve to multi-class')\n",
    "plt.legend(lines, labels, loc=(0, -.38), prop=dict(size=14))\n",
    "\n",
    "\n",
    "plt.show()"
   ]
  },
  {
   "cell_type": "code",
   "execution_count": null,
   "metadata": {},
   "outputs": [],
   "source": []
  }
 ],
 "metadata": {
  "kernelspec": {
   "display_name": "Python 3",
   "language": "python",
   "name": "python3"
  },
  "language_info": {
   "codemirror_mode": {
    "name": "ipython",
    "version": 3
   },
   "file_extension": ".py",
   "mimetype": "text/x-python",
   "name": "python",
   "nbconvert_exporter": "python",
   "pygments_lexer": "ipython3",
   "version": "3.6.5"
  }
 },
 "nbformat": 4,
 "nbformat_minor": 1
}
